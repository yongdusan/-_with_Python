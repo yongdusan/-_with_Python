{
 "cells": [
  {
   "cell_type": "markdown",
   "metadata": {},
   "source": [
    "### Level 4 공항 건설하기"
   ]
  },
  {
   "cell_type": "markdown",
   "metadata": {},
   "source": [
    "1보다 큰 N개의 도시 중 한 곳에 공항을 지을 예정입니다.  \n",
    "사람들의 편의를 위해 공항으로부터 각 사람들까지의 도시간 이동 거리가 최소가 되는 도시에 짓기로 하였습니다.   \n",
    "편의상 도시는 일직선상에 놓여있다고 가정하며 좌표의 범위는 음수가 포함됩니다.   \n",
    "또한 좌표는 정렬되어 있지 않습니다.   \n",
    "직선상의 위치와 그 도시에 사는 사람들의 수가 주어질 때, 공항을 지을 도시의 위치를 반환해주는 함수 chooseCity 함수를 완성하세요.  \n",
    "거리가 같은 도시가 2개 이상일 경우 위치가 더 작은 쪽의 도시를 선택하면 됩니다.  \n",
    "예를 들어 다음과 같은 정보의 도시가 있다고 가정해 봅시다.  \n",
    "  \n",
    "위치   1\t 2\t 3  \n",
    "인구수\t5\t2\t3  \n",
    "  \n",
    "이 살 경우, 각각의 도시에 공항을 지었을 때의 사람들의 이동 거리는 8, 8, 12 이므로 1번 또는 2번에 지을 수 있지만,   \n",
    "1의 위치가 더 작으므로 1을 반환해주면 됩니다."
   ]
  },
  {
   "cell_type": "code",
   "execution_count": 98,
   "metadata": {},
   "outputs": [],
   "source": [
    "def chooseCity(n,city):\n",
    "    answer =[]\n",
    "    for i in range(1, n+1):\n",
    "        temp = 0\n",
    "        for j in range(1, n+1):\n",
    "            temp += abs(j - i) * city[j-1][1]\n",
    "        answer.append(temp)\n",
    "    return answer.index(min(answer))+1\n"
   ]
  },
  {
   "cell_type": "code",
   "execution_count": 99,
   "metadata": {},
   "outputs": [
    {
     "name": "stdout",
     "output_type": "stream",
     "text": [
      "1\n"
     ]
    }
   ],
   "source": [
    "print(chooseCity(3,[[1,5],[2,2],[3,3]]))"
   ]
  },
  {
   "cell_type": "markdown",
   "metadata": {},
   "source": [
    "내 답안은 시간 초과"
   ]
  },
  {
   "cell_type": "markdown",
   "metadata": {},
   "source": [
    "#### 다른 풀이"
   ]
  },
  {
   "cell_type": "markdown",
   "metadata": {},
   "source": [
    "zip 함수, index slicing 활용"
   ]
  },
  {
   "cell_type": "code",
   "execution_count": 94,
   "metadata": {
    "collapsed": true
   },
   "outputs": [],
   "source": [
    "def chooseCity1(n, city):\n",
    "    arr = [list(i) for i in zip(*city)] # zip(*sequence) 사용해 도시 list와 인구 list로 정리\n",
    "    print(arr)\n",
    "    efficient_list = [0] * n # 0의 값을 n개 가진 list 초기화\n",
    "    \n",
    "    for i in range(n):\n",
    "        new_dist = arr[0][:i] + arr[0][i + 1:] # 인덱스 슬라이싱에서 i는 제외된다는 특징을 활용\n",
    "        print(new_dist)\n",
    "        new_popu = arr[1][:i] + arr[1][i + 1:] # 인덱스 슬라이싱에서 i는 제외된다는 특징을 활용\n",
    "        print(new_popu)\n",
    "        efficient_list[i] = sum([abs(city[i][0] - new_dist[index]) * new_popu[index] for index in range(0, len(new_dist))])\n",
    "        print(efficient_list)\n",
    "    return city[efficient_list.index(min(efficient_list))][0]\n"
   ]
  },
  {
   "cell_type": "code",
   "execution_count": 95,
   "metadata": {},
   "outputs": [
    {
     "name": "stdout",
     "output_type": "stream",
     "text": [
      "[[1, 2, 3], [5, 2, 3]]\n",
      "[2, 3]\n",
      "[2, 3]\n",
      "[8, 0, 0]\n",
      "[1, 3]\n",
      "[5, 3]\n",
      "[8, 8, 0]\n",
      "[1, 2]\n",
      "[5, 2]\n",
      "[8, 8, 12]\n",
      "1\n"
     ]
    }
   ],
   "source": [
    "print(chooseCity1(3,[[1,5],[2,2],[3,3]]))"
   ]
  }
 ],
 "metadata": {
  "kernelspec": {
   "display_name": "Python 3",
   "language": "python",
   "name": "python3"
  },
  "language_info": {
   "codemirror_mode": {
    "name": "ipython",
    "version": 3
   },
   "file_extension": ".py",
   "mimetype": "text/x-python",
   "name": "python",
   "nbconvert_exporter": "python",
   "pygments_lexer": "ipython3",
   "version": "3.6.1"
  }
 },
 "nbformat": 4,
 "nbformat_minor": 2
}
