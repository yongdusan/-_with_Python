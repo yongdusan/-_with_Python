{
 "cells": [
  {
   "cell_type": "markdown",
   "metadata": {},
   "source": [
    "### Level 4 최고의 집합"
   ]
  },
  {
   "cell_type": "markdown",
   "metadata": {},
   "source": [
    "자연수 N개로 이루어진 집합 중에, 각 원소의 합이 S가 되는 수의 집합은 여러 가지가 존재합니다.  \n",
    "최고의 집합은, 위의 조건을 만족하는 집합 중 각 원소의 곱이 최대가 되는 집합을 의미합니다.   \n",
    "집합 원소의 개수 n과 원소들의 합 s가 주어지면, 최고의 집합을 찾아 원소를 오름차순으로 반환해주는 bestSet 함수를 만들어 보세요.   \n",
    "만약 조건을 만족하는 집합이 없을 때는 배열 맨 앞에 –1을 담아 반환하면 됩니다. 예를 들어 n=3, s=13이면 [4,4,5]가 반환됩니다.  \n",
    "(자바는 집합이 없는 경우 크기가 1인 배열에 -1을 담아 반환해주세요.)  "
   ]
  },
  {
   "cell_type": "code",
   "execution_count": 71,
   "metadata": {},
   "outputs": [],
   "source": [
    "def bestSet(n, s):\n",
    "    answer = []\n",
    "    temp = s // n\n",
    "    resi = s % n\n",
    "    print(temp, resi)\n",
    "    if temp == 0:\n",
    "        return [-1]\n",
    "    else: \n",
    "        for i in range(n):\n",
    "            answer.append(temp)\n",
    "        j = -1\n",
    "        while resi > 0:\n",
    "            answer[j] = temp + 1\n",
    "            j -= 1\n",
    "            resi -= 1\n",
    "        return answer"
   ]
  },
  {
   "cell_type": "code",
   "execution_count": 72,
   "metadata": {},
   "outputs": [
    {
     "name": "stdout",
     "output_type": "stream",
     "text": [
      "4 1\n",
      "[4, 4, 5]\n"
     ]
    }
   ],
   "source": [
    "# 아래는 테스트로 출력해 보기 위한 코드입니다.\n",
    "print(bestSet(3,13))"
   ]
  },
  {
   "cell_type": "code",
   "execution_count": 73,
   "metadata": {},
   "outputs": [
    {
     "name": "stdout",
     "output_type": "stream",
     "text": [
      "0 2\n",
      "[-1]\n"
     ]
    }
   ],
   "source": [
    "print(bestSet(18,2))"
   ]
  },
  {
   "cell_type": "markdown",
   "metadata": {},
   "source": [
    "#### 다른 풀이"
   ]
  },
  {
   "cell_type": "code",
   "execution_count": 75,
   "metadata": {
    "collapsed": true
   },
   "outputs": [],
   "source": [
    "def bestSet1(n, s):\n",
    "    if s < n:\n",
    "        return [-1]\n",
    "\n",
    "    answer = []\n",
    "    for i in range(n):\n",
    "        answer.append(int(s//n))\n",
    "    for j in range(s%n):\n",
    "        answer[j] += 1\n",
    "    return answer[::-1] # 순서 거꾸로"
   ]
  },
  {
   "cell_type": "code",
   "execution_count": 76,
   "metadata": {},
   "outputs": [
    {
     "name": "stdout",
     "output_type": "stream",
     "text": [
      "[4, 4, 5]\n",
      "[-1]\n"
     ]
    }
   ],
   "source": [
    "print(bestSet1(3,13))\n",
    "print(bestSet1(18,2))"
   ]
  }
 ],
 "metadata": {
  "kernelspec": {
   "display_name": "Python 3",
   "language": "python",
   "name": "python3"
  },
  "language_info": {
   "codemirror_mode": {
    "name": "ipython",
    "version": 3
   },
   "file_extension": ".py",
   "mimetype": "text/x-python",
   "name": "python",
   "nbconvert_exporter": "python",
   "pygments_lexer": "ipython3",
   "version": "3.6.1"
  }
 },
 "nbformat": 4,
 "nbformat_minor": 2
}
