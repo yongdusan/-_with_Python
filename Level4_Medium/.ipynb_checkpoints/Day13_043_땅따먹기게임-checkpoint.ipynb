{
 "cells": [
  {
   "cell_type": "markdown",
   "metadata": {},
   "source": [
    "### Level 4 땅따먹기 게임"
   ]
  },
  {
   "cell_type": "markdown",
   "metadata": {},
   "source": [
    "영희는 땅따먹기 게임에 푹 빠졌습니다.  \n",
    "땅따먹기 게임의 땅은 총 N행 4열로 나누어져 있고, 모든 칸에는 점수가 쓰여 있습니다.  \n",
    "땅을 밟으면서 한 행씩 내려올 때, 영희는 각 행의 4칸 중 1칸만 밟으면서 내려올 수 있습니다.  \n",
    "땅따먹기 게임에는 같은 열을 연속해서 밟을 수가 없는 특수 규칙이 있습니다.  \n",
    "즉, 1행에서 (5)를 밟았다면, 2행의 (8)은 밟을 수가 없게 됩니다.  \n",
    "마지막 행까지 모두 내려왔을 때, 점수가 가장 높은 사람이 게임의 승자가 됩니다.  \n",
    "여러분이 hopscotch 함수를 제작하여 영희가 최대 몇 점을 얻을 수 있는지 알려주세요.  \n",
    "예를 들어  \n",
    "1 2 3 5  \n",
    "5 6 7 8  \n",
    "4 3 2 1  \n",
    "의 땅이 있다면, 영희는 각 줄에서 (5), (7), (4) 땅을 밟아 16점을 최고점으로 받을 수 있으며,  \n",
    "hopscotch 함수에서는 16을 반환해주면 됩니다."
   ]
  },
  {
   "cell_type": "code",
   "execution_count": 145,
   "metadata": {},
   "outputs": [],
   "source": [
    "def hopscotch(board, size):\n",
    "    result = [0] * size\n",
    "    temp = [0] * size\n",
    "    for i, x in enumerate(board):\n",
    "        max = 0\n",
    "        for j, y in enumerate(x):\n",
    "            if j != temp[i-1] and y >= max:\n",
    "                max = y\n",
    "                temp[i] = x.index(y)\n",
    "            result[i] = max\n",
    "    print(result)\n",
    "    print(temp)\n",
    "    # 땅따먹기 게임으로 얻을 수 있는 최대 점수는?\n",
    "    return sum(result)"
   ]
  },
  {
   "cell_type": "code",
   "execution_count": 146,
   "metadata": {},
   "outputs": [
    {
     "name": "stdout",
     "output_type": "stream",
     "text": [
      "[5, 7, 4]\n",
      "[3, 2, 0]\n",
      "16\n"
     ]
    }
   ],
   "source": [
    "#아래는 테스트로 출력해 보기 위한 코드입니다.\n",
    "board =  [[ 1, 2, 3, 5 ], [ 5, 6, 7, 8 ], [4, 3, 2, 1]]\n",
    "print(hopscotch(board, 3))"
   ]
  },
  {
   "cell_type": "markdown",
   "metadata": {},
   "source": [
    "#### 다른풀이"
   ]
  },
  {
   "cell_type": "code",
   "execution_count": 177,
   "metadata": {
    "collapsed": true
   },
   "outputs": [],
   "source": [
    "def hopscotch1(board, size):\n",
    "    accum = [0] * len(board[0])\n",
    "    for row in board:\n",
    "        tmp = accum[:]\n",
    "        for i in range(len(row)):\n",
    "            accum[i] = row[i] + max(tmp[:i] + tmp[i+1:])\n",
    "    return max(accum)\n"
   ]
  },
  {
   "cell_type": "code",
   "execution_count": 173,
   "metadata": {
    "collapsed": true
   },
   "outputs": [],
   "source": [
    "board = [[8, 4, 6, 1], [7, 2, 1, 7], [5, 10, 4, 5], [1, 4, 6, 9], [9, 7, 7, 10], [8, 4, 5, 3], [2, 10, 5, 1], [1, 3, 2, 1], [7, 5, 5, 3], [9, 8, 5, 10]]"
   ]
  },
  {
   "cell_type": "code",
   "execution_count": 174,
   "metadata": {},
   "outputs": [
    {
     "name": "stdout",
     "output_type": "stream",
     "text": [
      "[6, 7, 10, 9, 9, 5, 10, 2, 7, 10]\n",
      "[2, 0, 1, 3, 0, 2, 1, 2, 0, 3]\n",
      "75\n"
     ]
    }
   ],
   "source": [
    "print(hopscotch(board, 10))"
   ]
  },
  {
   "cell_type": "code",
   "execution_count": 178,
   "metadata": {},
   "outputs": [
    {
     "name": "stdout",
     "output_type": "stream",
     "text": [
      "78\n"
     ]
    }
   ],
   "source": [
    "print(hopscotch1(board, 10))"
   ]
  },
  {
   "cell_type": "code",
   "execution_count": null,
   "metadata": {
    "collapsed": true
   },
   "outputs": [],
   "source": []
  }
 ],
 "metadata": {
  "kernelspec": {
   "display_name": "Python 3",
   "language": "python",
   "name": "python3"
  },
  "language_info": {
   "codemirror_mode": {
    "name": "ipython",
    "version": 3
   },
   "file_extension": ".py",
   "mimetype": "text/x-python",
   "name": "python",
   "nbconvert_exporter": "python",
   "pygments_lexer": "ipython3",
   "version": "3.6.1"
  }
 },
 "nbformat": 4,
 "nbformat_minor": 2
}
