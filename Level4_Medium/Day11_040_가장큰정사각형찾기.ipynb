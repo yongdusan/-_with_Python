{
 "cells": [
  {
   "cell_type": "markdown",
   "metadata": {},
   "source": [
    "#### Level 4 가장 큰 정사각형 찾기"
   ]
  },
  {
   "cell_type": "markdown",
   "metadata": {},
   "source": [
    "O와 X로 채워진 표가 있습니다.  \n",
    "표 1칸은 1 x 1 의 정사각형으로 이루어져 있습니다.  \n",
    "표에서 O로 이루어진 가장 큰 정사각형을 찾아 넓이를 반환하는 findLargestSquare 함수를 완성하세요.   \n",
    "예를 들어    \n",
    "1\t2\t3\t4\t5  \n",
    "X\tO\tO\tO\tX  \n",
    "X\tO\tO\tO\tO   \n",
    "X\tX\tO\tO\tO  \n",
    "X\tX\tO\tO\tO  \n",
    "X\tX\tX\tX\tX  \n",
    "가 있다면 정답은  \n",
    "  \n",
    "1\t2\t3\t4\t5  \n",
    "X\tO\tO\tO\tX  \n",
    "X\tO\tO\tO\tO  \n",
    "X\tX\tO\tO\tO  \n",
    "X\tX\tO\tO\tO  \n",
    "X\tX\tX\tX\tX  \n",
    "가 되며 넓이는 9가 되므로 9를 반환해 주면 됩니다.  "
   ]
  },
  {
   "cell_type": "markdown",
   "metadata": {},
   "source": [
    "#### DP (Dynamic Programming)"
   ]
  },
  {
   "cell_type": "code",
   "execution_count": 85,
   "metadata": {
    "collapsed": true
   },
   "outputs": [],
   "source": [
    "def findLargestSquare(board):\n",
    "    # 'O'에 해당하는 것을 1로, 'X'에 해당하는 값을 0으로 바꿔준다.\n",
    "    table = [[1 if x == \"O\" else 0 for x in sub_board] for sub_board in board]\n",
    "    max_square = 0\n",
    "    for i in range(1, len(table)):\n",
    "        for j in range(1, len(table[i])):\n",
    "            # 만약 table[x][y]의 값이 0(즉, 'X')라면 정사각형을 만들 수 없으므로 건너 뛴다.\n",
    "            if table[i][j] == 0:\n",
    "                continue\n",
    "            # 해당 좌표 기준(x,y) : 왼쪽검사(x, y-1), 위쪽 검사(x-1, y), 11시 방향 대각선 검사(x-1, y-1)\n",
    "            else:\n",
    "                # 최소값을 하나 뽑아낸다. 차례대로 min(왼쪽 좌표, 위쪽 좌표, 왼쪽 대각선 좌표)를 의미한다.\n",
    "                _min = min([table[i][j-1], table[i-1][j], table[i-1][j-1]])\n",
    "                table[i][j] = _min + 1\n",
    "\n",
    "                # 만약, max_square보다 큰 값이 등장하면, 교체해준다.\n",
    "                if max_square < table[i][j]:\n",
    "                    max_square = table[i][j]\n",
    "\n",
    "    # 넓이를 반환해야 하므로 제곱을 해서 반환한다.\n",
    "    return max_square**2\n"
   ]
  },
  {
   "cell_type": "code",
   "execution_count": 86,
   "metadata": {},
   "outputs": [
    {
     "name": "stdout",
     "output_type": "stream",
     "text": [
      "9\n"
     ]
    }
   ],
   "source": [
    "testBoard = [['X','O','O','O','X'],['X','O','O','O','O'],['X','X','O','O','O'],['X','X','O','O','O'],['X','X','X','X','X']]\n",
    "print(findLargestSquare(testBoard))"
   ]
  },
  {
   "cell_type": "code",
   "execution_count": null,
   "metadata": {
    "collapsed": true
   },
   "outputs": [],
   "source": []
  }
 ],
 "metadata": {
  "kernelspec": {
   "display_name": "Python 3",
   "language": "python",
   "name": "python3"
  },
  "language_info": {
   "codemirror_mode": {
    "name": "ipython",
    "version": 3
   },
   "file_extension": ".py",
   "mimetype": "text/x-python",
   "name": "python",
   "nbconvert_exporter": "python",
   "pygments_lexer": "ipython3",
   "version": "3.6.1"
  }
 },
 "nbformat": 4,
 "nbformat_minor": 2
}
