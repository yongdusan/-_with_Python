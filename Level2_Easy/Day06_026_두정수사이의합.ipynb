{
 "cells": [
  {
   "cell_type": "markdown",
   "metadata": {},
   "source": [
    "### Level 2 두 정수 사이의 합"
   ]
  },
  {
   "cell_type": "markdown",
   "metadata": {},
   "source": [
    "adder함수는 정수 a, b를 매개변수로 입력받습니다.  \n",
    "두 수와 두 수 사이에 있는 모든 정수를 더해서 리턴하도록 함수를 완성하세요. a와 b가 같은 경우는 둘 중 아무 수나 리턴하세요.  \n",
    "예를들어 a가 3, b가 5이면 12를 리턴하면 됩니다.  \n",
    "\n",
    "a, b는 음수나 0, 양수일 수 있으며 둘의 대소 관계도 정해져 있지 않습니다."
   ]
  },
  {
   "cell_type": "code",
   "execution_count": 42,
   "metadata": {
    "collapsed": true
   },
   "outputs": [],
   "source": [
    "def adder(a, b):\n",
    "    # 함수를 완성하세요\n",
    "    temp = [a, b]\n",
    "    temp.sort()\n",
    "    c, d = temp[0], temp[1]\n",
    "    if c == d:\n",
    "        return c\n",
    "    else:\n",
    "        return sum(x for x in range(c, d+1))"
   ]
  },
  {
   "cell_type": "code",
   "execution_count": 44,
   "metadata": {},
   "outputs": [
    {
     "name": "stdout",
     "output_type": "stream",
     "text": [
      "12\n",
      "12\n",
      "6\n",
      "0\n",
      "3\n",
      "12\n",
      "6\n",
      "-7\n"
     ]
    }
   ],
   "source": [
    "# 아래는 테스트로 출력해 보기 위한 코드입니다.\n",
    "print(adder(3, 5))\n",
    "print(adder(5, 3))\n",
    "print(adder(3, 0))\n",
    "print(adder(3, -3))\n",
    "print(adder(3, 3))\n",
    "print(adder(5, 3))\n",
    "print(adder(0, 3))\n",
    "print(adder(-3, -4))"
   ]
  },
  {
   "cell_type": "markdown",
   "metadata": {},
   "source": [
    "#### 다른 풀이"
   ]
  },
  {
   "cell_type": "code",
   "execution_count": 43,
   "metadata": {
    "collapsed": true
   },
   "outputs": [],
   "source": [
    "def adder1(a, b):\n",
    "    return (abs(a-b)+1)*(a+b)//2"
   ]
  },
  {
   "cell_type": "code",
   "execution_count": 45,
   "metadata": {},
   "outputs": [
    {
     "name": "stdout",
     "output_type": "stream",
     "text": [
      "12\n",
      "12\n",
      "6\n",
      "0\n",
      "3\n",
      "12\n",
      "6\n",
      "-7\n"
     ]
    }
   ],
   "source": [
    "print(adder1(3, 5))\n",
    "print(adder1(5, 3))\n",
    "print(adder1(3, 0))\n",
    "print(adder1(3, -3))\n",
    "print(adder1(3, 3))\n",
    "print(adder1(5, 3))\n",
    "print(adder1(0, 3))\n",
    "print(adder1(-3, -4))"
   ]
  },
  {
   "cell_type": "code",
   "execution_count": 47,
   "metadata": {
    "collapsed": true
   },
   "outputs": [],
   "source": [
    "def adder2(a, b):\n",
    "    if a > b: a, b = b, a\n",
    "    return sum(range(a,b+1))"
   ]
  },
  {
   "cell_type": "code",
   "execution_count": 48,
   "metadata": {},
   "outputs": [
    {
     "name": "stdout",
     "output_type": "stream",
     "text": [
      "12\n",
      "12\n",
      "6\n",
      "0\n",
      "3\n",
      "12\n",
      "6\n",
      "-7\n"
     ]
    }
   ],
   "source": [
    "print(adder2(3, 5))\n",
    "print(adder2(5, 3))\n",
    "print(adder2(3, 0))\n",
    "print(adder2(3, -3))\n",
    "print(adder2(3, 3))\n",
    "print(adder2(5, 3))\n",
    "print(adder2(0, 3))\n",
    "print(adder2(-3, -4))"
   ]
  }
 ],
 "metadata": {
  "kernelspec": {
   "display_name": "Python 3",
   "language": "python",
   "name": "python3"
  },
  "language_info": {
   "codemirror_mode": {
    "name": "ipython",
    "version": 3
   },
   "file_extension": ".py",
   "mimetype": "text/x-python",
   "name": "python",
   "nbconvert_exporter": "python",
   "pygments_lexer": "ipython3",
   "version": "3.6.1"
  }
 },
 "nbformat": 4,
 "nbformat_minor": 2
}
