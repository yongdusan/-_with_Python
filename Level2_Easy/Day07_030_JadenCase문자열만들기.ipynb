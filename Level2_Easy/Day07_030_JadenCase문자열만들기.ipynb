{
 "cells": [
  {
   "cell_type": "markdown",
   "metadata": {},
   "source": [
    "### Level 2 JadenCase문자열 만들기"
   ]
  },
  {
   "cell_type": "markdown",
   "metadata": {},
   "source": [
    "Jaden_Case함수는 문자열 s을 매개변수로 입력받습니다.  \n",
    "s에 모든 단어의 첫 알파벳이 대문자이고, 그 외의 알파벳은 소문자인 문자열을 리턴하도록 함수를 완성하세요.  \n",
    "예를들어 s가 \"3people unFollowed me for the last week\"라면 \"3people Unfollowed Me For The Last Week\"를 리턴하면 됩니다.  "
   ]
  },
  {
   "cell_type": "code",
   "execution_count": 156,
   "metadata": {},
   "outputs": [],
   "source": [
    "def Jaden_Case(s):\n",
    "    # 함수를 완성하세요\n",
    "    s = s.lower()\n",
    "    a = \"\"\n",
    "    temp = []\n",
    "    for i in range(len(s)):\n",
    "        if i == 0:\n",
    "            a = a + s[i].upper()\n",
    "        elif s[i] == \" \":\n",
    "            a = a + \" \" + s[i+1].upper()\n",
    "            temp.append(i)\n",
    "        elif i-1 in temp:\n",
    "            pass\n",
    "        else: \n",
    "            a = a + s[i]\n",
    "    return a"
   ]
  },
  {
   "cell_type": "code",
   "execution_count": 169,
   "metadata": {},
   "outputs": [
    {
     "name": "stdout",
     "output_type": "stream",
     "text": [
      "3people Unfollowed Me For The Last Week\n",
      "People Unfollowed Me For The Last Week\n",
      "People Unfollowed Me For The Last Week\n",
      "People Unfollowed Me For The Last Week\n"
     ]
    }
   ],
   "source": [
    "# 아래는 테스트로 출력해 보기 위한 코드입니다.\n",
    "print(Jaden_Case(\"3people unFollowed me for the last week\"))\n",
    "print(Jaden_Case1(\"people unFollowed me for the last week\"))\n",
    "print(Jaden_Case1(\" people unFollowed me for the last week\"))\n",
    "print(Jaden_Case1(\"people  unFollowed me for the last week\"))"
   ]
  },
  {
   "cell_type": "markdown",
   "metadata": {},
   "source": [
    "#### 다른 풀이"
   ]
  },
  {
   "cell_type": "markdown",
   "metadata": {},
   "source": [
    "- split(), index, join 이용"
   ]
  },
  {
   "cell_type": "code",
   "execution_count": 164,
   "metadata": {
    "collapsed": true
   },
   "outputs": [],
   "source": [
    "def Jaden_Case1(s):\n",
    "    answer =[]\n",
    "    for i in range(len(s.split())):\n",
    "        answer.append(s.split()[i][0].upper() + s.split()[i].lower()[1:]) \n",
    "    return \" \".join(answer)"
   ]
  },
  {
   "cell_type": "code",
   "execution_count": 170,
   "metadata": {},
   "outputs": [
    {
     "name": "stdout",
     "output_type": "stream",
     "text": [
      "3people Unfollowed Me For The Last Week\n",
      "People Unfollowed Me For The Last Week\n",
      "People Unfollowed Me For The Last Week\n",
      "People Unfollowed Me For The Last Week\n"
     ]
    }
   ],
   "source": [
    "print(Jaden_Case1(\"3people unFollowed me for the last week\"))\n",
    "print(Jaden_Case1(\"people unFollowed me for the last week\"))\n",
    "print(Jaden_Case1(\" people unFollowed me for the last week\"))\n",
    "print(Jaden_Case1(\"people  unFollowed me for the last week\"))"
   ]
  },
  {
   "cell_type": "code",
   "execution_count": null,
   "metadata": {
    "collapsed": true
   },
   "outputs": [],
   "source": []
  }
 ],
 "metadata": {
  "kernelspec": {
   "display_name": "Python 3",
   "language": "python",
   "name": "python3"
  },
  "language_info": {
   "codemirror_mode": {
    "name": "ipython",
    "version": 3
   },
   "file_extension": ".py",
   "mimetype": "text/x-python",
   "name": "python",
   "nbconvert_exporter": "python",
   "pygments_lexer": "ipython3",
   "version": "3.6.1"
  }
 },
 "nbformat": 4,
 "nbformat_minor": 2
}
