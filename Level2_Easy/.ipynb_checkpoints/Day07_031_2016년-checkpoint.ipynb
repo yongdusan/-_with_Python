{
 "cells": [
  {
   "cell_type": "markdown",
   "metadata": {},
   "source": [
    "### Level 2 2016년"
   ]
  },
  {
   "cell_type": "markdown",
   "metadata": {},
   "source": [
    "2016년 1월 1일은 금요일입니다. 2016년 A월 B일은 무슨 요일일까요?   \n",
    "두 수 A,B를 입력받아 A월 B일이 무슨 요일인지 출력하는 getDayName 함수를 완성하세요.   \n",
    "요일의 이름은 일요일부터 토요일까지 각각  \n",
    "\n",
    "SUN,MON,TUE,WED,THU,FRI,SAT  \n",
    "\n",
    "를 출력해주면 됩니다.  \n",
    "\n",
    "예를 들어 A=5, B=24가 입력된다면 5월 24일은 화요일이므로 TUE를 반환하면 됩니다.  "
   ]
  },
  {
   "cell_type": "code",
   "execution_count": 52,
   "metadata": {},
   "outputs": [],
   "source": [
    "def getDayName(a,b):\n",
    "    DN = {3: \"SUN\", 4: \"MON\", 5: \"TUE\", 6: \"WED\", 0: \"THU\", 1: \"FRI\", 2: \"SAT\"}\n",
    "    day = b\n",
    "    for m in range(1, a):\n",
    "        if m in [1, 3, 5, 7, 8, 10, 12]:\n",
    "            day += 31\n",
    "        elif m in [4, 6, 9, 11]:\n",
    "            day += 30\n",
    "        else:\n",
    "            day += 29\n",
    "    return DN[day%7]"
   ]
  },
  {
   "cell_type": "code",
   "execution_count": 53,
   "metadata": {},
   "outputs": [
    {
     "name": "stdout",
     "output_type": "stream",
     "text": [
      "TUE\n",
      "FRI\n",
      "MON\n",
      "SAT\n",
      "TUE\n"
     ]
    }
   ],
   "source": [
    "#아래 코드는 테스트를 위한 출력 코드입니다.\n",
    "print(getDayName(5,24))\n",
    "print(getDayName(1,1))\n",
    "print(getDayName(2,1))\n",
    "print(getDayName(12,31))\n",
    "print(getDayName(3,1))"
   ]
  },
  {
   "cell_type": "code",
   "execution_count": null,
   "metadata": {
    "collapsed": true
   },
   "outputs": [],
   "source": []
  }
 ],
 "metadata": {
  "kernelspec": {
   "display_name": "Python 3",
   "language": "python",
   "name": "python3"
  },
  "language_info": {
   "codemirror_mode": {
    "name": "ipython",
    "version": 3
   },
   "file_extension": ".py",
   "mimetype": "text/x-python",
   "name": "python",
   "nbconvert_exporter": "python",
   "pygments_lexer": "ipython3",
   "version": "3.6.1"
  }
 },
 "nbformat": 4,
 "nbformat_minor": 2
}
