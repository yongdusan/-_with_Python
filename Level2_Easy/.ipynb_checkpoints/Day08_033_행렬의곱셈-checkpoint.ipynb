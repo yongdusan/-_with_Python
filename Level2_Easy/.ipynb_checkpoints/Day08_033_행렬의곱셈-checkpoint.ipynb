{
 "cells": [
  {
   "cell_type": "markdown",
   "metadata": {},
   "source": [
    "### Level 2 행렬의 곱셈"
   ]
  },
  {
   "cell_type": "markdown",
   "metadata": {},
   "source": [
    "행렬의 곱셈은, 곱하려는 두 행렬의 어떤 행과 열을 기준으로,   \n",
    "좌측의 행렬은 해당되는 행, 우측의 행렬은 해당되는 열을 순서대로 곱한 값을 더한 값이 들어갑니다.   \n",
    "\n",
    "행렬을 곱하기 위해선 좌측 행렬의 열의 개수와 우측 행렬의 행의 개수가 같아야 합니다.  \n",
    "곱할 수 있는 두 행렬 A,B가 주어질 때, 행렬을 곱한 값을 출력하는 productMatrix 함수를 완성해 보세요."
   ]
  },
  {
   "cell_type": "code",
   "execution_count": 101,
   "metadata": {},
   "outputs": [],
   "source": [
    "def productMatrix(a, b):\n",
    "    # 각 matrix 의 row, col 값 확인\n",
    "    row_a, col_a = len(a), len(a[0])\n",
    "    row_b, col_b = len(b), len(b[0])  \n",
    "    \n",
    "    # answer 행렬 형태와 초기화\n",
    "    answer = [[0]*col_b for x in range(row_a)] \n",
    "\n",
    "    \n",
    "    for i in range(row_a):  \n",
    "        for j in range(col_b):\n",
    "            result = 0 \n",
    "            for k in range(row_b): \n",
    "                result += a[i][k] * b[k][j] \n",
    "                answer[i][j] = result \n",
    "    return answer"
   ]
  },
  {
   "cell_type": "code",
   "execution_count": 102,
   "metadata": {},
   "outputs": [
    {
     "name": "stdout",
     "output_type": "stream",
     "text": [
      "결과 : [[13, 16], [21, 26]]\n"
     ]
    }
   ],
   "source": [
    "# 아래는 테스트로 출력해 보기 위한 코드입니다.\n",
    "a = [[ 1, 2 ], [2, 3 ]];\n",
    "b = [[ 3, 4], [5, 6]];\n",
    "print(\"결과 : {}\".format(productMatrix(a,b)));"
   ]
  },
  {
   "cell_type": "markdown",
   "metadata": {},
   "source": [
    "#### 다른 풀이"
   ]
  },
  {
   "cell_type": "code",
   "execution_count": 56,
   "metadata": {
    "collapsed": true
   },
   "outputs": [],
   "source": [
    "def productMatrix1(a,b):\n",
    "    answer = [[sum(x*y for x, y in zip(a_row,b_col)) for b_col in zip(*b)] for a_row in a]\n",
    "    return answer"
   ]
  },
  {
   "cell_type": "code",
   "execution_count": 57,
   "metadata": {},
   "outputs": [
    {
     "name": "stdout",
     "output_type": "stream",
     "text": [
      "결과 : [[13, 16], [21, 26]]\n"
     ]
    }
   ],
   "source": [
    "a = [[ 1, 2 ], [ 2, 3 ]];\n",
    "b = [[ 3, 4], [5, 6]];\n",
    "print(\"결과 : {}\".format(productMatrix1(a,b)));"
   ]
  },
  {
   "cell_type": "code",
   "execution_count": null,
   "metadata": {
    "collapsed": true
   },
   "outputs": [],
   "source": []
  }
 ],
 "metadata": {
  "kernelspec": {
   "display_name": "Python 3",
   "language": "python",
   "name": "python3"
  },
  "language_info": {
   "codemirror_mode": {
    "name": "ipython",
    "version": 3
   },
   "file_extension": ".py",
   "mimetype": "text/x-python",
   "name": "python",
   "nbconvert_exporter": "python",
   "pygments_lexer": "ipython3",
   "version": "3.6.1"
  }
 },
 "nbformat": 4,
 "nbformat_minor": 2
}
