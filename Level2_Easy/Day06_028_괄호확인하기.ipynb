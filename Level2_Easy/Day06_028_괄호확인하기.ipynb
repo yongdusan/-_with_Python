{
 "cells": [
  {
   "cell_type": "markdown",
   "metadata": {},
   "source": [
    "### Level 2 괄호 확인하기"
   ]
  },
  {
   "cell_type": "markdown",
   "metadata": {},
   "source": [
    "is_pair함수는 문자열 s를 매개변수로 입력받습니다.  \n",
    "s에 괄호가 알맞게 짝지어져 있으면 True를 아니면 False를 리턴하는 함수를 완성하세요.  \n",
    "예를들어 s가 \"(hello)()\"면 True이고, \")(\"이면 False입니다.  \n",
    "s가 빈 문자열(\"\")인 경우는 없습니다."
   ]
  },
  {
   "cell_type": "code",
   "execution_count": 42,
   "metadata": {
    "collapsed": true
   },
   "outputs": [],
   "source": [
    "def is_pair(s):\n",
    "    # 함수를 완성하세요\n",
    "    temp = []\n",
    "    for i in range(len(s)):\n",
    "        if s[i] == \"(\":\n",
    "            temp.append(0)\n",
    "        elif s[i] == \")\":\n",
    "            temp.append(1)\n",
    "    if temp[0] == 0 and (temp.count(0) == temp.count(1)):\n",
    "        return True\n",
    "    else:\n",
    "        return False"
   ]
  },
  {
   "cell_type": "code",
   "execution_count": 50,
   "metadata": {},
   "outputs": [
    {
     "name": "stdout",
     "output_type": "stream",
     "text": [
      "True\n",
      "False\n",
      "False\n",
      "True\n",
      "True\n"
     ]
    }
   ],
   "source": [
    "# 아래는 테스트로 출력해 보기 위한 코드입니다.\n",
    "print( is_pair(\"(hello)()\"))\n",
    "print( is_pair(\")(\"))\n",
    "print( is_pair(\"(<33\"))\n",
    "print( is_pair(\"9393()()\"))\n",
    "print( is_pair(\"() )( ()\"))"
   ]
  },
  {
   "cell_type": "markdown",
   "metadata": {},
   "source": [
    "#### 다른 풀이"
   ]
  },
  {
   "cell_type": "code",
   "execution_count": 52,
   "metadata": {
    "collapsed": true
   },
   "outputs": [],
   "source": [
    "def is_pair1(s):\n",
    "    x = 0\n",
    "    for w in s:\n",
    "        if x < 0:\n",
    "            break\n",
    "        x = x+1 if w==\"(\" else x-1 if w==\")\" else x\n",
    "    return x==0"
   ]
  },
  {
   "cell_type": "code",
   "execution_count": 53,
   "metadata": {},
   "outputs": [
    {
     "name": "stdout",
     "output_type": "stream",
     "text": [
      "True\n",
      "False\n",
      "False\n",
      "True\n",
      "False\n"
     ]
    }
   ],
   "source": [
    "print( is_pair1(\"(hello)()\"))\n",
    "print( is_pair1(\")(\"))\n",
    "print( is_pair1(\"(<33\"))\n",
    "print( is_pair1(\"9393()()\"))\n",
    "print( is_pair1(\"() )( ()\"))"
   ]
  },
  {
   "cell_type": "code",
   "execution_count": null,
   "metadata": {
    "collapsed": true
   },
   "outputs": [],
   "source": []
  }
 ],
 "metadata": {
  "kernelspec": {
   "display_name": "Python 3",
   "language": "python",
   "name": "python3"
  },
  "language_info": {
   "codemirror_mode": {
    "name": "ipython",
    "version": 3
   },
   "file_extension": ".py",
   "mimetype": "text/x-python",
   "name": "python",
   "nbconvert_exporter": "python",
   "pygments_lexer": "ipython3",
   "version": "3.6.1"
  }
 },
 "nbformat": 4,
 "nbformat_minor": 2
}
