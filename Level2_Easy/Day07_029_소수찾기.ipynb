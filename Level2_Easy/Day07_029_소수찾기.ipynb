{
 "cells": [
  {
   "cell_type": "markdown",
   "metadata": {},
   "source": [
    "### Level 2 소수 찾기"
   ]
  },
  {
   "cell_type": "markdown",
   "metadata": {},
   "source": [
    "numberOfPrime 메소드는 정수 n을 매개변수로 입력받습니다.  \n",
    "1부터 입력받은 숫자 n 사이에 있는 소수의 개수를 반환하도록 numberOfPrime 메소드를 만들어 보세요.  \n",
    "\n",
    "소수는 1과 자기 자신으로만 나누어지는 수를 의미합니다.  \n",
    "(1은 소수가 아닙니다.)  \n",
    "\n",
    "10을 입력받았다면, 1부터 10 사이의 소수는 [2,3,5,7] 4개가 존재하므로 4를 반환  \n",
    "5를 입력받았다면, 1부터 5 사이의 소수는 [2,3,5] 3개가 존재하므로 3를 반환  "
   ]
  },
  {
   "cell_type": "code",
   "execution_count": 66,
   "metadata": {},
   "outputs": [],
   "source": [
    "def numberOfPrime(n):\n",
    "    # 1부터 n사이의 소수는 몇 개인가요?\n",
    "    answer = []\n",
    "    for x in range(2, n+1):\n",
    "        temp = []\n",
    "        for y in range(1, x+1):\n",
    "            if x%y == 0:\n",
    "                temp.append(y)\n",
    "            if x == y and len(temp) == 2:\n",
    "                answer.append(x)\n",
    "    return len(answer)"
   ]
  },
  {
   "cell_type": "code",
   "execution_count": 68,
   "metadata": {},
   "outputs": [
    {
     "name": "stdout",
     "output_type": "stream",
     "text": [
      "6\n",
      "0\n"
     ]
    }
   ],
   "source": [
    "# 아래는 테스트로 출력해 보기 위한 코드입니다.\n",
    "print(numberOfPrime(15))\n",
    "print(numberOfPrime(1))"
   ]
  }
 ],
 "metadata": {
  "kernelspec": {
   "display_name": "Python 3",
   "language": "python",
   "name": "python3"
  },
  "language_info": {
   "codemirror_mode": {
    "name": "ipython",
    "version": 3
   },
   "file_extension": ".py",
   "mimetype": "text/x-python",
   "name": "python",
   "nbconvert_exporter": "python",
   "pygments_lexer": "ipython3",
   "version": "3.6.1"
  }
 },
 "nbformat": 4,
 "nbformat_minor": 2
}
