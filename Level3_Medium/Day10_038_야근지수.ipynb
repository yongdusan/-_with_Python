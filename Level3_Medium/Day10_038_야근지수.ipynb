{
 "cells": [
  {
   "cell_type": "markdown",
   "metadata": {},
   "source": [
    "### Level 3 야근 지수"
   ]
  },
  {
   "cell_type": "markdown",
   "metadata": {},
   "source": [
    "회사원인 수민이는 많은 일이 쌓여 있습니다.   \n",
    "수민이는 야근을 최소화하기 위해 남은 일의 작업량을 숫자로 메기고, 일에 대한 야근 지수를 줄이기로 결정했습니다.   \n",
    "야근 지수는 남은 일의 작업량을 제곱하여 더한 값을 의미합니다.   \n",
    "수민이는 1시간 동안 남은 일 중 하나를 골라 작업량 1만큼 처리할 수 있습니다.   \n",
    "수민이의 퇴근까지 남은 N 시간과 각 일에 대한 작업량이 있을 때,   \n",
    "noOvertime 함수를 제작하여 수민이의 야근 지수를 최소화 한 결과를 출력해 주세요.   \n",
    "  \n",
    "예를 들어, N=4 일 때, 남은 일의 작업량이 [4, 3, 3] 이라면   \n",
    "야근 지수를 최소화하기 위해 일을 한 결과는 [2, 2, 2]가 되고   \n",
    "야근 지수는 22 + 22 + 22 = 12가 되어 12를 반환해 줍니다."
   ]
  },
  {
   "cell_type": "markdown",
   "metadata": {},
   "source": [
    "#### 최소자승합"
   ]
  },
  {
   "cell_type": "code",
   "execution_count": 30,
   "metadata": {
    "collapsed": true
   },
   "outputs": [],
   "source": [
    "# 야근 지수 구하는 함수\n",
    "def Otidx(works):\n",
    "    return sum(x**2 for x in works)\n",
    "\n",
    "def noOvertime(n, works):\n",
    "    # n이 남은 일의 작업량보다 크면 0\n",
    "    if n >= sum(works):\n",
    "        return 0\n",
    "    \n",
    "    while n > 0:\n",
    "        # n이 0이 될 떄까지 works 중 가장 큰 값에서 -1 씩 반복 \n",
    "        works[works.index(max(works))] -= 1\n",
    "        n -= 1\n",
    "    return Otidx(works)\n",
    "    "
   ]
  },
  {
   "cell_type": "code",
   "execution_count": 31,
   "metadata": {},
   "outputs": [
    {
     "name": "stdout",
     "output_type": "stream",
     "text": [
      "12\n"
     ]
    }
   ],
   "source": [
    "print(noOvertime(4, [4, 3, 3]))"
   ]
  },
  {
   "cell_type": "code",
   "execution_count": null,
   "metadata": {
    "collapsed": true
   },
   "outputs": [],
   "source": []
  }
 ],
 "metadata": {
  "kernelspec": {
   "display_name": "Python 3",
   "language": "python",
   "name": "python3"
  },
  "language_info": {
   "codemirror_mode": {
    "name": "ipython",
    "version": 3
   },
   "file_extension": ".py",
   "mimetype": "text/x-python",
   "name": "python",
   "nbconvert_exporter": "python",
   "pygments_lexer": "ipython3",
   "version": "3.6.1"
  }
 },
 "nbformat": 4,
 "nbformat_minor": 2
}
