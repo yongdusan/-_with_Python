{
 "cells": [
  {
   "cell_type": "markdown",
   "metadata": {},
   "source": [
    "### Level 3 멀리뛰기"
   ]
  },
  {
   "cell_type": "markdown",
   "metadata": {},
   "source": [
    "효진이는 멀리 뛰기를 연습하고 있습니다. 효진이는 한번에 1칸, 또는 2칸을 뛸 수 있습니다.   \n",
    "칸이 총 4개 있을 때, 효진이는  \n",
    "(1칸, 1칸, 1칸, 1칸)  \n",
    "(1칸, 2칸, 1칸)  \n",
    "(1칸, 1칸, 2칸)  \n",
    "(2칸, 1칸, 1칸)  \n",
    "(2칸, 2칸)  \n",
    "의 5가지 방법으로 맨 끝 칸에 도달할 수 있습니다. \n",
    "\n",
    "멀리뛰기에 사용될 칸의 수 n이 주어질 때,   \n",
    "효진이가 끝에 도달하는 방법이 몇 가지인지 출력하는 jumpCase 함수를 완성하세요.   \n",
    "예를 들어 4가 입력된다면, 5를 반환해 주면 됩니다.  "
   ]
  },
  {
   "cell_type": "code",
   "execution_count": 27,
   "metadata": {},
   "outputs": [],
   "source": [
    "def jumpCase(num):\n",
    "    if num == 1:\n",
    "        return 1\n",
    "    if num == 2:\n",
    "        return 2\n",
    "    if num > 2:\n",
    "        return jumpCase(num - 1) + jumpCase(num - 2)\n",
    "    "
   ]
  },
  {
   "cell_type": "code",
   "execution_count": 30,
   "metadata": {},
   "outputs": [
    {
     "name": "stdout",
     "output_type": "stream",
     "text": [
      "5\n",
      "13\n"
     ]
    }
   ],
   "source": [
    "#아래는 테스트로 출력해 보기 위한 코드입니다.\n",
    "print(jumpCase(4))\n",
    "print(jumpCase(6))"
   ]
  }
 ],
 "metadata": {
  "kernelspec": {
   "display_name": "Python 3",
   "language": "python",
   "name": "python3"
  },
  "language_info": {
   "codemirror_mode": {
    "name": "ipython",
    "version": 3
   },
   "file_extension": ".py",
   "mimetype": "text/x-python",
   "name": "python",
   "nbconvert_exporter": "python",
   "pygments_lexer": "ipython3",
   "version": "3.6.1"
  }
 },
 "nbformat": 4,
 "nbformat_minor": 2
}
