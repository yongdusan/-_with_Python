{
 "cells": [
  {
   "cell_type": "markdown",
   "metadata": {},
   "source": [
    "### Level 3 시저 암호"
   ]
  },
  {
   "cell_type": "markdown",
   "metadata": {},
   "source": [
    "어떤 문장의 각 알파벳을 일정한 거리만큼 밀어서 다른 알파벳으로 바꾸는 암호화 방식을 시저 암호라고 합니다.  \n",
    "A를 3만큼 밀면 D가 되고 z를 1만큼 밀면 a가 됩니다. 공백은 수정하지 않습니다.\n",
    "  \n",
    "보낼 문자열 s와 얼마나 밀지 알려주는 n을 입력받아 암호문을 만드는 caesar 함수를 완성해 보세요.  \n",
    "“a B z”,4를 입력받았다면 “e F d”를 리턴합니다."
   ]
  },
  {
   "cell_type": "code",
   "execution_count": 263,
   "metadata": {},
   "outputs": [],
   "source": [
    "def caesar(s, n):\n",
    "    result = \"\"\n",
    "    alph = \"abcdefghijklmnopqrstuvwxyz\"\n",
    "    for y in s:\n",
    "        if y in alph:\n",
    "            temp = [idx for idx, value in enumerate(alph) if y == value]\n",
    "            result += alph[temp[0] + (n % len(alph))- len(alph)]\n",
    "        elif y == \" \":\n",
    "            result += \" \"\n",
    "        else:\n",
    "            y = y.lower()\n",
    "            temp = [idx for idx, value in enumerate(alph) if y == value]    \n",
    "            result += (alph[temp[0] + (n % len(alph)) - len(alph)]).upper()\n",
    "    return result"
   ]
  },
  {
   "cell_type": "code",
   "execution_count": 264,
   "metadata": {},
   "outputs": [
    {
     "name": "stdout",
     "output_type": "stream",
     "text": [
      "s는 \"a B z\", n은 4인 경우: e F d\n"
     ]
    }
   ],
   "source": [
    "# 실행을 위한 테스트코드입니다.\n",
    "print('s는 \"a B z\", n은 4인 경우: ' + caesar(\"a B z\", 4))"
   ]
  }
 ],
 "metadata": {
  "kernelspec": {
   "display_name": "Python 3",
   "language": "python",
   "name": "python3"
  },
  "language_info": {
   "codemirror_mode": {
    "name": "ipython",
    "version": 3
   },
   "file_extension": ".py",
   "mimetype": "text/x-python",
   "name": "python",
   "nbconvert_exporter": "python",
   "pygments_lexer": "ipython3",
   "version": "3.6.1"
  }
 },
 "nbformat": 4,
 "nbformat_minor": 2
}
