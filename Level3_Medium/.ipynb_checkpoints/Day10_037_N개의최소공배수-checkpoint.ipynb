{
 "cells": [
  {
   "cell_type": "markdown",
   "metadata": {},
   "source": [
    "### Level 3 N개의 최소공배수"
   ]
  },
  {
   "cell_type": "markdown",
   "metadata": {},
   "source": [
    "두 수의 최소공배수(Least Common Multiple)란 입력된 두 수의 배수 중 공통이 되는 가장 작은 숫자를 의미합니다.   \n",
    "예를 들어 2와 7의 최소공배수는 14가 됩니다.   \n",
    "정의를 확장해서, n개의 수의 최소공배수는 n 개의 수들의 배수 중 공통이 되는 가장 작은 숫자가 됩니다.   \n",
    "nlcm 함수를 통해 n개의 숫자가 입력되었을 때, 최소공배수를 반환해 주세요.   \n",
    "예를들어 [2,6,8,14] 가 입력된다면 168을 반환해 주면 됩니다.  "
   ]
  },
  {
   "cell_type": "code",
   "execution_count": 69,
   "metadata": {},
   "outputs": [],
   "source": [
    "# 유클리드 호제법 이용\n",
    "\n",
    "def gcd(a, b):\n",
    "    c, d = max(a, b), min(a, b)\n",
    "    mod = 1\n",
    "    while mod > 0:\n",
    "        mod = c % d\n",
    "        c, d = d, mod\n",
    "    return c\n",
    "\n",
    "def lcm(a ,b):\n",
    "    return int(a * b / gcd(a, b))\n",
    "\n",
    "def nlcm(num):\n",
    "    while len(num) != 1:\n",
    "        result = []\n",
    "        for i in range(int((len(num)+1)//2)):\n",
    "            result.append(lcm(num[i], num[-1-i]))\n",
    "        num = result\n",
    "    return int(num[0])\n",
    "        "
   ]
  },
  {
   "cell_type": "code",
   "execution_count": 70,
   "metadata": {},
   "outputs": [
    {
     "name": "stdout",
     "output_type": "stream",
     "text": [
      "168\n"
     ]
    }
   ],
   "source": [
    "# 아래는 테스트로 출력해 보기 위한 코드입니다.\n",
    "print(nlcm([2,8,6,14]));"
   ]
  },
  {
   "cell_type": "code",
   "execution_count": 71,
   "metadata": {},
   "outputs": [
    {
     "name": "stdout",
     "output_type": "stream",
     "text": [
      "156396240\n"
     ]
    }
   ],
   "source": [
    "print(nlcm([55, 98, 99, 98, 39, 16, 93, 70, 6, 10]))"
   ]
  },
  {
   "cell_type": "code",
   "execution_count": null,
   "metadata": {
    "collapsed": true
   },
   "outputs": [],
   "source": []
  }
 ],
 "metadata": {
  "kernelspec": {
   "display_name": "Python 3",
   "language": "python",
   "name": "python3"
  },
  "language_info": {
   "codemirror_mode": {
    "name": "ipython",
    "version": 3
   },
   "file_extension": ".py",
   "mimetype": "text/x-python",
   "name": "python",
   "nbconvert_exporter": "python",
   "pygments_lexer": "ipython3",
   "version": "3.6.1"
  }
 },
 "nbformat": 4,
 "nbformat_minor": 2
}
