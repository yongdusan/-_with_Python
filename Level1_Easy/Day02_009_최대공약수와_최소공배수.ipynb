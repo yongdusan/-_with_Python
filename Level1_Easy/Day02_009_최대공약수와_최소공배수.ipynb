{
 "cells": [
  {
   "cell_type": "markdown",
   "metadata": {},
   "source": [
    "## Level1_최대공약수와 최소공배수"
   ]
  },
  {
   "cell_type": "markdown",
   "metadata": {},
   "source": [
    "두 수를 입력받아 두 수의 최대공약수와 최소공배수를 반환해주는 gcdlcm 함수를 완성해 보세요.  \n",
    "배열의 맨 앞에 최대공약수, 그 다음 최소공배수를 넣어 반환하면 됩니다.  \n",
    "예를 들어 gcdlcm(3,12) 가 입력되면, [3, 12]를 반환해주면 됩니다."
   ]
  },
  {
   "cell_type": "code",
   "execution_count": 65,
   "metadata": {},
   "outputs": [],
   "source": [
    "def gcdlcm(a, b):\n",
    "    answer = []\n",
    "    ays = []\n",
    "    bys = []\n",
    "    cd = []\n",
    "    for x in range(1, a+1):\n",
    "        if a % x ==0:\n",
    "            ays.append(x)\n",
    "    for y in range(1, b+1):\n",
    "        if b % y == 0:\n",
    "            bys.append(y)\n",
    "    for i in ays and bys:\n",
    "        if i in ays and i in bys:\n",
    "            cd.append(i)\n",
    "    gcd = cd[-1]\n",
    "    am = a // gcd\n",
    "    bm = b // gcd\n",
    "    lcm = am * bm * gcd\n",
    "    answer = [gcd, lcm]\n",
    "   \n",
    "    return answer"
   ]
  },
  {
   "cell_type": "code",
   "execution_count": 66,
   "metadata": {},
   "outputs": [
    {
     "name": "stdout",
     "output_type": "stream",
     "text": [
      "[6, 36]\n"
     ]
    }
   ],
   "source": [
    "# 아래는 테스트로 출력해 보기 위한 코드입니다.\n",
    "print(gcdlcm(6,36))"
   ]
  },
  {
   "cell_type": "code",
   "execution_count": 67,
   "metadata": {},
   "outputs": [
    {
     "name": "stdout",
     "output_type": "stream",
     "text": [
      "[1, 962]\n"
     ]
    }
   ],
   "source": [
    "print(gcdlcm(13,74))"
   ]
  },
  {
   "cell_type": "markdown",
   "metadata": {},
   "source": [
    "## 다른 풀이"
   ]
  },
  {
   "cell_type": "code",
   "execution_count": 68,
   "metadata": {
    "collapsed": true
   },
   "outputs": [],
   "source": [
    "def gcdlcm1(a, b):\n",
    "    c, d = max(a, b), min(a, b)\n",
    "    t = 1\n",
    "    while t > 0:\n",
    "        t = c % d\n",
    "        c, d = d, t\n",
    "    answer = [c, int(a*b/c)]\n",
    "\n",
    "    return answer"
   ]
  },
  {
   "cell_type": "code",
   "execution_count": 69,
   "metadata": {},
   "outputs": [
    {
     "name": "stdout",
     "output_type": "stream",
     "text": [
      "[6, 36]\n"
     ]
    }
   ],
   "source": [
    "print(gcdlcm1(6,36))"
   ]
  },
  {
   "cell_type": "code",
   "execution_count": 70,
   "metadata": {},
   "outputs": [
    {
     "name": "stdout",
     "output_type": "stream",
     "text": [
      "[1, 962]\n"
     ]
    }
   ],
   "source": [
    "print(gcdlcm1(13,74))"
   ]
  },
  {
   "cell_type": "markdown",
   "metadata": {},
   "source": [
    "### min(), max() 함수와 유클리드 호제법!"
   ]
  }
 ],
 "metadata": {
  "kernelspec": {
   "display_name": "Python 3",
   "language": "python",
   "name": "python3"
  },
  "language_info": {
   "codemirror_mode": {
    "name": "ipython",
    "version": 3
   },
   "file_extension": ".py",
   "mimetype": "text/x-python",
   "name": "python",
   "nbconvert_exporter": "python",
   "pygments_lexer": "ipython3",
   "version": "3.6.1"
  }
 },
 "nbformat": 4,
 "nbformat_minor": 2
}
