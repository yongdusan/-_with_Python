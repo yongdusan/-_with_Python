{
 "cells": [
  {
   "cell_type": "markdown",
   "metadata": {},
   "source": [
    "### Level1_수박수박수박수박수박수?"
   ]
  },
  {
   "cell_type": "markdown",
   "metadata": {},
   "source": [
    "water_melon함수는 정수 n을 매개변수로 입력받습니다.  \n",
    "길이가 n이고, 수박수박수...와 같은 패턴을 유지하는 문자열을 리턴하도록 함수를 완성하세요.  \n",
    "\n",
    "예를들어 n이 4이면 '수박수박'을 리턴하고 3이라면 '수박수'를 리턴하면 됩니다."
   ]
  },
  {
   "cell_type": "code",
   "execution_count": 26,
   "metadata": {},
   "outputs": [],
   "source": [
    "def water_melon(n):\n",
    "    # 함수를 완성하세요.\n",
    "    wm = \"수박\"\n",
    "    temp = str(wm * n)\n",
    "    return temp[:n]"
   ]
  },
  {
   "cell_type": "code",
   "execution_count": 27,
   "metadata": {},
   "outputs": [
    {
     "name": "stdout",
     "output_type": "stream",
     "text": [
      "n이 3인 경우: 수박수\n"
     ]
    }
   ],
   "source": [
    "# 실행을 위한 테스트코드입니다.\n",
    "print(\"n이 3인 경우: \" + water_melon(3));"
   ]
  },
  {
   "cell_type": "code",
   "execution_count": 28,
   "metadata": {},
   "outputs": [
    {
     "name": "stdout",
     "output_type": "stream",
     "text": [
      "n이 4인 경우: 수박수박\n"
     ]
    }
   ],
   "source": [
    "print(\"n이 4인 경우: \" + water_melon(4));"
   ]
  }
 ],
 "metadata": {
  "kernelspec": {
   "display_name": "Python 3",
   "language": "python",
   "name": "python3"
  },
  "language_info": {
   "codemirror_mode": {
    "name": "ipython",
    "version": 3
   },
   "file_extension": ".py",
   "mimetype": "text/x-python",
   "name": "python",
   "nbconvert_exporter": "python",
   "pygments_lexer": "ipython3",
   "version": "3.6.1"
  }
 },
 "nbformat": 4,
 "nbformat_minor": 2
}
