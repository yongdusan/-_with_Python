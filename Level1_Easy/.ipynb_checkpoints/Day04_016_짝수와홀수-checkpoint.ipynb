{
 "cells": [
  {
   "cell_type": "markdown",
   "metadata": {},
   "source": [
    "### Level1 짝수와 홀수"
   ]
  },
  {
   "cell_type": "markdown",
   "metadata": {},
   "source": [
    "evenOrOdd 메소드는 int형 num을 매개변수로 받습니다.  \n",
    "num이 짝수일 경우 \"Even\"을 반환하고 홀수인 경우 \"Odd\"를 반환하도록 evenOrOdd에 코드를 작성해 보세요.  \n",
    "num은 0이상의 정수이며, num이 음수인 경우는 없습니다."
   ]
  },
  {
   "cell_type": "code",
   "execution_count": 1,
   "metadata": {
    "collapsed": true
   },
   "outputs": [],
   "source": [
    "def evenOrOdd(num):\n",
    "    s = \"\"\n",
    "    #함수를 완성하세요\n",
    "    if num % 2 == 0:\n",
    "        s = \"Even\"\n",
    "    else:\n",
    "        s = \"Odd\"\n",
    "\n",
    "    return s"
   ]
  },
  {
   "cell_type": "code",
   "execution_count": 10,
   "metadata": {},
   "outputs": [
    {
     "name": "stdout",
     "output_type": "stream",
     "text": [
      "결과 : Odd\n",
      "결과 : Even\n"
     ]
    }
   ],
   "source": [
    "#아래는 테스트로 출력해 보기 위한 코드입니다.\n",
    "print(\"결과 : \" + evenOrOdd(3))\n",
    "print(\"결과 : \" + evenOrOdd(2))"
   ]
  },
  {
   "cell_type": "markdown",
   "metadata": {},
   "source": [
    "#### 다른 풀이"
   ]
  },
  {
   "cell_type": "code",
   "execution_count": 4,
   "metadata": {
    "collapsed": true
   },
   "outputs": [],
   "source": [
    "def evenOrOdd1(num):\n",
    "    return num % 2 and \"Odd\" or \"Even\""
   ]
  },
  {
   "cell_type": "markdown",
   "metadata": {},
   "source": [
    "and 연산자는 결과값이 둘 다 참이여야지 True를 출력  \n",
    "or은 둘중하나만 참이여도 True를 출력  \n",
    "파이썬은 예외적으로 소괄호를 써서 우선순위를 뒤로 미루는 경우를 제외하고는  \n",
    "먼저 써진순서대로 우선처리순위를 잡기때문에 위 공식 성립 가능함"
   ]
  },
  {
   "cell_type": "code",
   "execution_count": 9,
   "metadata": {},
   "outputs": [
    {
     "name": "stdout",
     "output_type": "stream",
     "text": [
      "결과 : Odd\n",
      "결과 : Even\n"
     ]
    }
   ],
   "source": [
    "print(\"결과 : \" + evenOrOdd1(3))\n",
    "print(\"결과 : \" + evenOrOdd1(2))"
   ]
  },
  {
   "cell_type": "code",
   "execution_count": 7,
   "metadata": {
    "collapsed": true
   },
   "outputs": [],
   "source": [
    "def evenOrOdd2(num):\n",
    "    return \"Even\" if num % 2 == 0 else \"Odd\""
   ]
  },
  {
   "cell_type": "code",
   "execution_count": 8,
   "metadata": {},
   "outputs": [
    {
     "name": "stdout",
     "output_type": "stream",
     "text": [
      "결과 : Odd\n",
      "결과 : Even\n"
     ]
    }
   ],
   "source": [
    "print(\"결과 : \" + evenOrOdd2(3))\n",
    "print(\"결과 : \" + evenOrOdd2(2))"
   ]
  },
  {
   "cell_type": "code",
   "execution_count": null,
   "metadata": {
    "collapsed": true
   },
   "outputs": [],
   "source": []
  }
 ],
 "metadata": {
  "kernelspec": {
   "display_name": "Python 3",
   "language": "python",
   "name": "python3"
  },
  "language_info": {
   "codemirror_mode": {
    "name": "ipython",
    "version": 3
   },
   "file_extension": ".py",
   "mimetype": "text/x-python",
   "name": "python",
   "nbconvert_exporter": "python",
   "pygments_lexer": "ipython3",
   "version": "3.6.1"
  }
 },
 "nbformat": 4,
 "nbformat_minor": 2
}
