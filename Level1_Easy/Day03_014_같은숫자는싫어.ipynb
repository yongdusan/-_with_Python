{
 "cells": [
  {
   "cell_type": "markdown",
   "metadata": {},
   "source": [
    "### Level 1 같은 숫자는 싫어"
   ]
  },
  {
   "cell_type": "markdown",
   "metadata": {},
   "source": [
    "no_continuous함수는 스트링 s를 매개변수로 입력받습니다.  \n",
    "\n",
    "s의 글자들의 순서를 유지하면서, 글자들 중 연속적으로 나타나는 아이템은 제거된 배열(파이썬은 list)을 리턴하도록 함수를 완성하세요.  \n",
    "예를들어 다음과 같이 동작하면 됩니다.  \n",
    "\n",
    "s가 '133303'이라면 ['1', '3', '0', '3']를 리턴  \n",
    "s가 '47330'이라면 [4, 7, 3, 0]을 리턴"
   ]
  },
  {
   "cell_type": "code",
   "execution_count": 87,
   "metadata": {},
   "outputs": [],
   "source": [
    "def no_continuous(s):\n",
    "    # 함수를 완성하세요\n",
    "    answer = []\n",
    "    for i in range(len(s)):\n",
    "        if i == 0:\n",
    "            answer.append(s[i])\n",
    "        elif s[i] != answer[-1]:\n",
    "            answer.append(s[i])\n",
    "    return answer"
   ]
  },
  {
   "cell_type": "code",
   "execution_count": 88,
   "metadata": {},
   "outputs": [
    {
     "name": "stdout",
     "output_type": "stream",
     "text": [
      "['1', '3', '0', '3']\n"
     ]
    }
   ],
   "source": [
    "# 아래는 테스트로 출력해 보기 위한 코드입니다.\n",
    "print( no_continuous( \"133303\" ))"
   ]
  },
  {
   "cell_type": "code",
   "execution_count": 89,
   "metadata": {},
   "outputs": [
    {
     "name": "stdout",
     "output_type": "stream",
     "text": [
      "['3', '8', '9', '3', '9']\n"
     ]
    }
   ],
   "source": [
    "print( no_continuous( \"3338888899999339999\" ))"
   ]
  },
  {
   "cell_type": "markdown",
   "metadata": {},
   "source": [
    "### 다른 풀이"
   ]
  },
  {
   "cell_type": "markdown",
   "metadata": {},
   "source": [
    "iteration 활용 list 만들려면 return 뒤 [] 씌워주면 됨"
   ]
  },
  {
   "cell_type": "code",
   "execution_count": 90,
   "metadata": {
    "collapsed": true
   },
   "outputs": [],
   "source": [
    "def no_continuous1(s):\n",
    "    return [s[i] for i in range(len(s)) if s[i] != s[i+1:i+2]]"
   ]
  },
  {
   "cell_type": "code",
   "execution_count": 91,
   "metadata": {},
   "outputs": [
    {
     "name": "stdout",
     "output_type": "stream",
     "text": [
      "['3', '8', '9', '3', '9']\n"
     ]
    }
   ],
   "source": [
    "print( no_continuous1( \"3338888899999339999\" ))"
   ]
  },
  {
   "cell_type": "code",
   "execution_count": 92,
   "metadata": {},
   "outputs": [
    {
     "name": "stdout",
     "output_type": "stream",
     "text": [
      "['1', '3', '0', '3']\n"
     ]
    }
   ],
   "source": [
    "print( no_continuous1( \"133303\" ))"
   ]
  },
  {
   "cell_type": "markdown",
   "metadata": {},
   "source": [
    "### 다른 풀이"
   ]
  },
  {
   "cell_type": "markdown",
   "metadata": {},
   "source": [
    "리스트 내 끝 원소 추출시 a[-1:] 활용!"
   ]
  },
  {
   "cell_type": "code",
   "execution_count": 103,
   "metadata": {
    "collapsed": true
   },
   "outputs": [],
   "source": [
    "def no_continuous2(s):\n",
    "    a = []\n",
    "    for i in s:\n",
    "        if a[-1:] == [i]: continue\n",
    "        a.append(i)\n",
    "    return a"
   ]
  },
  {
   "cell_type": "code",
   "execution_count": 104,
   "metadata": {},
   "outputs": [
    {
     "name": "stdout",
     "output_type": "stream",
     "text": [
      "[] []\n",
      "['3'] ['3']\n",
      "['3', '8'] ['8']\n",
      "['3', '8', '9'] ['9']\n",
      "['3', '8', '9', '3'] ['3']\n",
      "['3', '8', '9', '3', '9']\n"
     ]
    }
   ],
   "source": [
    "print( no_continuous2( \"3338888899999339999\" ))"
   ]
  },
  {
   "cell_type": "code",
   "execution_count": null,
   "metadata": {
    "collapsed": true
   },
   "outputs": [],
   "source": []
  }
 ],
 "metadata": {
  "kernelspec": {
   "display_name": "Python 3",
   "language": "python",
   "name": "python3"
  },
  "language_info": {
   "codemirror_mode": {
    "name": "ipython",
    "version": 3
   },
   "file_extension": ".py",
   "mimetype": "text/x-python",
   "name": "python",
   "nbconvert_exporter": "python",
   "pygments_lexer": "ipython3",
   "version": "3.6.1"
  }
 },
 "nbformat": 4,
 "nbformat_minor": 2
}
