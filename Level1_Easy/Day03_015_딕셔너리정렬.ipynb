{
 "cells": [
  {
   "cell_type": "markdown",
   "metadata": {},
   "source": [
    "### Level1 딕셔너리 정렬"
   ]
  },
  {
   "cell_type": "markdown",
   "metadata": {},
   "source": [
    "딕셔너리는 들어있는 값에 순서가 없지만, 키를 기준으로 정렬하고 싶습니다.   \n",
    "그래서 키와 값을 튜플로 구성하고, 이를 순서대로 리스트에 넣으려고 합니다.  \n",
    "예를들어 {\"김철수\":78, \"이하나\":97, \"정진원\":88}이 있다면 각각의 키와 값을  \n",
    "\n",
    "(\"김철수\", 78)  \n",
    "(\"이하나\", 97)  \n",
    "(\"정진원\", 88)  \n",
    "과 같이 튜플로 분리하고 키를 기준으로 정렬해서 다음과 같은 리스트를 만들면 됩니다.  \n",
    "[ (\"김철수\", 78), (\"이하나\", 97), (\"정진원\", 88) ]  \n",
    "\n",
    "다음 sort_dictionary 함수를 완성해 보세요.  "
   ]
  },
  {
   "cell_type": "code",
   "execution_count": 92,
   "metadata": {},
   "outputs": [],
   "source": [
    "def sort_dictionary(dic):\n",
    "    '''입력받은 dic의 각 키와 값을 튜플로 만든 다음, 키 값을 기준으로 정렬해서 리스트에 넣으세요. 그 리스트를 return하면 됩니다.'''\n",
    "    temp = []\n",
    "    key = list(dic.keys())\n",
    "    item = dic.items()\n",
    "    key.sort()\n",
    "    for k in key:\n",
    "        for x in item:\n",
    "            if k == x[0]:\n",
    "                temp.append(x)\n",
    "    return temp"
   ]
  },
  {
   "cell_type": "code",
   "execution_count": 93,
   "metadata": {},
   "outputs": [
    {
     "name": "stdout",
     "output_type": "stream",
     "text": [
      "[('김철수', 78), ('이하나', 97), ('정진원', 88)]\n"
     ]
    }
   ],
   "source": [
    "# 아래는 테스트로 출력해 보기 위한 코드입니다.\n",
    "print( sort_dictionary( {\"김철수\":78, \"정진원\":88, \"이하나\":97} ))"
   ]
  },
  {
   "cell_type": "code",
   "execution_count": 94,
   "metadata": {},
   "outputs": [
    {
     "name": "stdout",
     "output_type": "stream",
     "text": [
      "[(48, 3889), (55, 9548), (57, 4876)]\n"
     ]
    }
   ],
   "source": [
    "print( sort_dictionary({57: 4876, 55: 9548, 48: 3889}))"
   ]
  },
  {
   "cell_type": "markdown",
   "metadata": {},
   "source": [
    "### 다른 풀이"
   ]
  },
  {
   "cell_type": "markdown",
   "metadata": {},
   "source": [
    "딕셔너리 sorted() 하면 key 값으로 정렬됨.."
   ]
  },
  {
   "cell_type": "code",
   "execution_count": 99,
   "metadata": {
    "collapsed": true
   },
   "outputs": [],
   "source": [
    "def sort_dictionary1(dic):\n",
    "    return sorted(dic.items(), key=lambda x: x[0])"
   ]
  },
  {
   "cell_type": "code",
   "execution_count": 100,
   "metadata": {},
   "outputs": [
    {
     "name": "stdout",
     "output_type": "stream",
     "text": [
      "[(48, 3889), (55, 9548), (57, 4876)]\n"
     ]
    }
   ],
   "source": [
    "print( sort_dictionary1({57: 4876, 55: 9548, 48: 3889}))"
   ]
  }
 ],
 "metadata": {
  "kernelspec": {
   "display_name": "Python 3",
   "language": "python",
   "name": "python3"
  },
  "language_info": {
   "codemirror_mode": {
    "name": "ipython",
    "version": 3
   },
   "file_extension": ".py",
   "mimetype": "text/x-python",
   "name": "python",
   "nbconvert_exporter": "python",
   "pygments_lexer": "ipython3",
   "version": "3.6.1"
  }
 },
 "nbformat": 4,
 "nbformat_minor": 2
}
